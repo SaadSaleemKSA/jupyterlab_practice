{
 "cells": [
  {
   "cell_type": "markdown",
   "id": "354feac2-1d12-4244-8703-1a5cd4fb1c65",
   "metadata": {},
   "source": [
    "# Question 11\n",
    "Notebook for assignment 7"
   ]
  },
  {
   "cell_type": "code",
   "execution_count": 1,
   "id": "00c883d7-9652-43cb-a932-b16262f3f05e",
   "metadata": {},
   "outputs": [
    {
     "name": "stdout",
     "output_type": "stream",
     "text": [
      "5.0\n"
     ]
    }
   ],
   "source": [
    "def compute_mean(values):\n",
    "    mean = sum(values) / len(values)\n",
    "    print(mean)\n",
    "\n",
    "compute_mean([2, 4, 6, 8])"
   ]
  },
  {
   "cell_type": "markdown",
   "id": "a1fb38ab-39fd-40d7-8b56-8c7ae5ed18aa",
   "metadata": {},
   "source": [
    "This code defines a function called `compute_mean` that takes a list of values as input, calculates the mean of those values, and prints the result.\n",
    "\n",
    "The equation for the mean (x̄) can be expressed in two ways in LaTeX:\n",
    "\n",
    "\\( \\bar{x} = \\frac{x_1 + x_2 + \\ldots + x_n}{n} \\)\n",
    "\n",
    "\\( \\bar{x} = \\frac{1}{n} \\sum_{i=1}^{n} x_i \\)"
   ]
  },
  {
   "cell_type": "code",
   "execution_count": null,
   "id": "a24ca010-7df4-4ce9-8a33-3d6e07741fa1",
   "metadata": {},
   "outputs": [],
   "source": []
  }
 ],
 "metadata": {
  "kernelspec": {
   "display_name": "Python 3 (ipykernel)",
   "language": "python",
   "name": "python3"
  },
  "language_info": {
   "codemirror_mode": {
    "name": "ipython",
    "version": 3
   },
   "file_extension": ".py",
   "mimetype": "text/x-python",
   "name": "python",
   "nbconvert_exporter": "python",
   "pygments_lexer": "ipython3",
   "version": "3.12.3"
  }
 },
 "nbformat": 4,
 "nbformat_minor": 5
}
